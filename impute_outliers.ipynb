{
 "cells": [
  {
   "cell_type": "markdown",
   "metadata": {},
   "source": [
    "### Outlier imputation."
   ]
  },
  {
   "cell_type": "code",
   "execution_count": 1,
   "metadata": {},
   "outputs": [],
   "source": [
    "from db_connector import open_transformed_table\n",
    "\n",
    "from data_transform import DataTransform\n",
    "\n",
    "from data_frame_info import DataFrameInfo\n",
    "\n",
    "from plotter import Plotter\n",
    "\n",
    "from data_frame_transform import DataFrameTransform"
   ]
  },
  {
   "cell_type": "code",
   "execution_count": 2,
   "metadata": {},
   "outputs": [],
   "source": [
    "# Retrieve the transformed dataframe\n",
    "transformed_table = open_transformed_table()"
   ]
  },
  {
   "cell_type": "code",
   "execution_count": 3,
   "metadata": {},
   "outputs": [],
   "source": [
    "# Call the DataFrameTransform class and the impute_outliers method.\n",
    "transform_data = DataFrameTransform(transformed_table)\n",
    "\n",
    "refined_table = transform_data.impute_outliers()"
   ]
  },
  {
   "cell_type": "code",
   "execution_count": 9,
   "metadata": {},
   "outputs": [],
   "source": [
    "# Compare pair plots before and after imputating outliers.\n",
    "transformed_data_plot = Plotter(transformed_table)\n",
    "refined_data_plot = Plotter(refined_table)\n",
    "\n",
    "#transformed_data_plot.pair_plot()\n",
    "#refined_data_plot.pair_plot()"
   ]
  },
  {
   "cell_type": "markdown",
   "metadata": {},
   "source": [
    "### Drop overly correlated columns"
   ]
  },
  {
   "cell_type": "code",
   "execution_count": 4,
   "metadata": {},
   "outputs": [],
   "source": [
    "# Visualise dataframe correlations.\n",
    "#refined_data_plot.correlation()"
   ]
  },
  {
   "cell_type": "code",
   "execution_count": 5,
   "metadata": {},
   "outputs": [
    {
     "data": {
      "text/plain": [
       "None"
      ]
     },
     "metadata": {},
     "output_type": "display_data"
    }
   ],
   "source": [
    "# Numeric columns with correlations scored at >0.9 that are able to be dropped without major impact to future data analysis:\n",
    "overly_correlated_columns = ['id', 'total_rec_pmpc']\n",
    "\n",
    "# Call the DataFrameTransform class.\n",
    "transform_refined_data = DataFrameTransform(refined_table)\n",
    "\n",
    "# Drop overly correlated columns from the dataframe.\n",
    "clean_table = transform_refined_data.drop_columns(overly_correlated_columns)\n",
    "display(clean_table)"
   ]
  }
 ],
 "metadata": {
  "kernelspec": {
   "display_name": "myenv",
   "language": "python",
   "name": "python3"
  },
  "language_info": {
   "codemirror_mode": {
    "name": "ipython",
    "version": 3
   },
   "file_extension": ".py",
   "mimetype": "text/x-python",
   "name": "python",
   "nbconvert_exporter": "python",
   "pygments_lexer": "ipython3",
   "version": "3.8.3"
  }
 },
 "nbformat": 4,
 "nbformat_minor": 2
}
