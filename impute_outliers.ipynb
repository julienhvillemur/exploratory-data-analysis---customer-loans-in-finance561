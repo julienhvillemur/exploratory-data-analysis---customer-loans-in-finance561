{
 "cells": [
  {
   "cell_type": "markdown",
   "metadata": {},
   "source": [
    "### Outlier imputation."
   ]
  },
  {
   "cell_type": "code",
   "execution_count": 1,
   "metadata": {},
   "outputs": [],
   "source": [
    "from db_connector import open_transformed_table\n",
    "\n",
    "from data_transform import DataTransform\n",
    "\n",
    "from data_frame_info import DataFrameInfo\n",
    "\n",
    "from plotter import Plotter\n",
    "\n",
    "from data_frame_transform import DataFrameTransform"
   ]
  },
  {
   "cell_type": "code",
   "execution_count": 2,
   "metadata": {},
   "outputs": [],
   "source": [
    "# Retrieve the transformed dataframe\n",
    "transformed_table = open_transformed_table()"
   ]
  },
  {
   "cell_type": "code",
   "execution_count": 3,
   "metadata": {},
   "outputs": [],
   "source": [
    "# Call the DataFrameTransform class and the impute_outliers method.\n",
    "transform_data = DataFrameTransform(transformed_table)\n",
    "\n",
    "refined_table = transform_data.impute_outliers()"
   ]
  },
  {
   "cell_type": "code",
   "execution_count": 9,
   "metadata": {},
   "outputs": [],
   "source": [
    "# Compare pair plots before and after imputating outliers.\n",
    "transformed_data_plot = Plotter(transformed_table)\n",
    "refined_data_plot = Plotter(refined_table)\n",
    "\n",
    "#transformed_data_plot.pair_plot()\n",
    "#refined_data_plot.pair_plot()"
   ]
  },
  {
   "cell_type": "markdown",
   "metadata": {},
   "source": [
    "### Drop overly correlated columns"
   ]
  },
  {
   "cell_type": "code",
   "execution_count": 4,
   "metadata": {},
   "outputs": [],
   "source": [
    "# Visualise dataframe correlations.\n",
    "#refined_data_plot.correlation()"
   ]
  },
  {
   "cell_type": "code",
   "execution_count": 1,
   "metadata": {},
   "outputs": [
    {
     "ename": "NameError",
     "evalue": "name 'DataFrameTransform' is not defined",
     "output_type": "error",
     "traceback": [
      "\u001b[0;31m---------------------------------------------------------------------------\u001b[0m",
      "\u001b[0;31mNameError\u001b[0m                                 Traceback (most recent call last)",
      "\u001b[1;32m/home/julienhvillemur/exploratory-data-analysis---customer-loans-in-finance561/impute_outliers.ipynb Cell 8\u001b[0m line \u001b[0;36m5\n\u001b[1;32m      <a href='vscode-notebook-cell://970-cs-1075942038704-default.cs-europe-west1-iuzs.cloudshell.dev/home/julienhvillemur/exploratory-data-analysis---customer-loans-in-finance561/impute_outliers.ipynb#X10sdnNjb2RlLXJlbW90ZQ%3D%3D?line=1'>2</a>\u001b[0m overly_correlated_columns \u001b[39m=\u001b[39m [\u001b[39m'\u001b[39m\u001b[39mid\u001b[39m\u001b[39m'\u001b[39m, \u001b[39m'\u001b[39m\u001b[39mtotal_rec_prncp\u001b[39m\u001b[39m'\u001b[39m]\n\u001b[1;32m      <a href='vscode-notebook-cell://970-cs-1075942038704-default.cs-europe-west1-iuzs.cloudshell.dev/home/julienhvillemur/exploratory-data-analysis---customer-loans-in-finance561/impute_outliers.ipynb#X10sdnNjb2RlLXJlbW90ZQ%3D%3D?line=3'>4</a>\u001b[0m \u001b[39m# Call the DataFrameTransform class.\u001b[39;00m\n\u001b[0;32m----> <a href='vscode-notebook-cell://970-cs-1075942038704-default.cs-europe-west1-iuzs.cloudshell.dev/home/julienhvillemur/exploratory-data-analysis---customer-loans-in-finance561/impute_outliers.ipynb#X10sdnNjb2RlLXJlbW90ZQ%3D%3D?line=4'>5</a>\u001b[0m transform_refined_data \u001b[39m=\u001b[39m DataFrameTransform(refined_table)\n\u001b[1;32m      <a href='vscode-notebook-cell://970-cs-1075942038704-default.cs-europe-west1-iuzs.cloudshell.dev/home/julienhvillemur/exploratory-data-analysis---customer-loans-in-finance561/impute_outliers.ipynb#X10sdnNjb2RlLXJlbW90ZQ%3D%3D?line=6'>7</a>\u001b[0m \u001b[39m# Drop overly correlated columns from the dataframe.\u001b[39;00m\n\u001b[1;32m      <a href='vscode-notebook-cell://970-cs-1075942038704-default.cs-europe-west1-iuzs.cloudshell.dev/home/julienhvillemur/exploratory-data-analysis---customer-loans-in-finance561/impute_outliers.ipynb#X10sdnNjb2RlLXJlbW90ZQ%3D%3D?line=7'>8</a>\u001b[0m clean_table \u001b[39m=\u001b[39m transform_refined_data\u001b[39m.\u001b[39mdrop_columns(overly_correlated_columns)\n",
      "\u001b[0;31mNameError\u001b[0m: name 'DataFrameTransform' is not defined"
     ]
    }
   ],
   "source": [
    "# Numeric columns with correlations scored at >0.9 that are able to be dropped without major impact to future data analysis:\n",
    "overly_correlated_columns = ['id', 'total_rec_prncp']\n",
    "\n",
    "# Call the DataFrameTransform class.\n",
    "transform_refined_data = DataFrameTransform(refined_table)\n",
    "\n",
    "# Drop overly correlated columns from the dataframe.\n",
    "clean_table = transform_refined_data.drop_columns(overly_correlated_columns)\n",
    "display(clean_table)"
   ]
  }
 ],
 "metadata": {
  "kernelspec": {
   "display_name": "myenv",
   "language": "python",
   "name": "python3"
  },
  "language_info": {
   "codemirror_mode": {
    "name": "ipython",
    "version": 3
   },
   "file_extension": ".py",
   "mimetype": "text/x-python",
   "name": "python",
   "nbconvert_exporter": "python",
   "pygments_lexer": "ipython3",
   "version": "3.9.2"
  }
 },
 "nbformat": 4,
 "nbformat_minor": 2
}
