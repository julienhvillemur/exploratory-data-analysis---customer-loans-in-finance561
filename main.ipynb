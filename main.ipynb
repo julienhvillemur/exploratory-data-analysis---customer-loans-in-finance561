{
 "cells": [
  {
   "cell_type": "markdown",
   "metadata": {},
   "source": [
    "# Import the necessary functions and classes."
   ]
  },
  {
   "cell_type": "code",
   "execution_count": 1,
   "metadata": {},
   "outputs": [
    {
     "ename": "ModuleNotFoundError",
     "evalue": "No module named 'db_connector.py'; 'db_connector' is not a package",
     "output_type": "error",
     "traceback": [
      "\u001b[1;31m---------------------------------------------------------------------------\u001b[0m",
      "\u001b[1;31mModuleNotFoundError\u001b[0m                       Traceback (most recent call last)",
      "\u001b[1;32mc:\\Users\\Julien H-V\\AI Core\\db_project\\milestone\\main.ipynb Cell 2\u001b[0m line \u001b[0;36m1\n\u001b[1;32m----> <a href='vscode-notebook-cell:/c%3A/Users/Julien%20H-V/AI%20Core/db_project/milestone/main.ipynb#W0sZmlsZQ%3D%3D?line=0'>1</a>\u001b[0m \u001b[39mfrom\u001b[39;00m \u001b[39mdb_connector\u001b[39;00m\u001b[39m.\u001b[39;00m\u001b[39mpy\u001b[39;00m \u001b[39mimport\u001b[39;00m open_table\n\u001b[0;32m      <a href='vscode-notebook-cell:/c%3A/Users/Julien%20H-V/AI%20Core/db_project/milestone/main.ipynb#W0sZmlsZQ%3D%3D?line=2'>3</a>\u001b[0m \u001b[39mfrom\u001b[39;00m \u001b[39mdata_transform\u001b[39;00m\u001b[39m.\u001b[39;00m\u001b[39mpy\u001b[39;00m \u001b[39mimport\u001b[39;00m DataTransform\n\u001b[0;32m      <a href='vscode-notebook-cell:/c%3A/Users/Julien%20H-V/AI%20Core/db_project/milestone/main.ipynb#W0sZmlsZQ%3D%3D?line=4'>5</a>\u001b[0m \u001b[39mfrom\u001b[39;00m \u001b[39mdata_frame_info\u001b[39;00m\u001b[39m.\u001b[39;00m\u001b[39mpy\u001b[39;00m \u001b[39mimport\u001b[39;00m DataFrameInfo\n",
      "\u001b[1;31mModuleNotFoundError\u001b[0m: No module named 'db_connector.py'; 'db_connector' is not a package"
     ]
    }
   ],
   "source": [
    "from db_connector.py import open_table\n",
    "\n",
    "from data_transform.py import DataTransform\n",
    "\n",
    "from data_frame_info.py import DataFrameInfo\n",
    "\n",
    "from plotter.py import plotter\n",
    "\n",
    "from data_frame_transform.py import DataFrameTransform"
   ]
  },
  {
   "cell_type": "markdown",
   "metadata": {},
   "source": [
    "# Retrieve table."
   ]
  },
  {
   "cell_type": "code",
   "execution_count": null,
   "metadata": {},
   "outputs": [],
   "source": [
    "raw_table = open_table()"
   ]
  },
  {
   "cell_type": "markdown",
   "metadata": {},
   "source": [
    "# Call methods and classes."
   ]
  },
  {
   "cell_type": "code",
   "execution_count": null,
   "metadata": {},
   "outputs": [],
   "source": [
    "transform_call = DataTransform(raw_table)\n",
    "\n",
    "# Remove strings from the 'term' column.\n",
    "transform_call.remove_term_column_strings()\n",
    "\n",
    "# Convert all date columns to datetime format.\n",
    "transform_call.iterate_through_columns()\n",
    "\n",
    "# Initialise a DataFrameInfo call with the raw dataframe.\n",
    "find_info = DataFrameInfo(raw_table)\n",
    "\n",
    "# Create table of percentage null values in the raw dataframe.\n",
    "null_percentages_table = find_info.percentage_null_values()\n"
   ]
  },
  {
   "cell_type": "markdown",
   "metadata": {},
   "source": [
    "# Sort data based on the data information."
   ]
  },
  {
   "cell_type": "code",
   "execution_count": null,
   "metadata": {},
   "outputs": [],
   "source": [
    "# Columns with null values:\n",
    "all_null_columns = ['mths_since_last_record', 'mths_since_last_major_derog', 'next_payment_date', 'mths_since_last_delinq', 'employment_length', 'last_payment_date', 'last_credit_pull_date','term', 'int_rate', 'funded_amount', 'collections_12_mths_ex_med']\n",
    "\n",
    " # Columns with >50% null values:\n",
    "highest_null_proportion_columns = ['mths_since_last_record', 'mths_since_last_major_derog', 'next_payment_date', 'mths_since_last_delinq']\n",
    "\n",
    "# Categorical columns:\n",
    "categorical_columns = ['employment_length', 'term'] # Contains null values\n",
    "\n",
    "# Date columns\n",
    "date_columns = ['last_payment_date', 'last_credit_pull_date'] # Contains null values\n",
    "\n",
    "# Columns with <10% null values:\n",
    "low_null_columns = ['int_rate', 'funded_amount', 'last_payment_date', 'last_credit_pull_date', 'collections_12_mths_ex_med']\n"
   ]
  },
  {
   "cell_type": "markdown",
   "metadata": {},
   "source": [
    "# Assess skewness of columns with low percentage null values."
   ]
  },
  {
   "cell_type": "code",
   "execution_count": null,
   "metadata": {},
   "outputs": [],
   "source": [
    "find_info.column_skew(low_null_columns)"
   ]
  },
  {
   "cell_type": "markdown",
   "metadata": {},
   "source": [
    "# Sort the low percentage null columns by skewness."
   ]
  },
  {
   "cell_type": "code",
   "execution_count": null,
   "metadata": {},
   "outputs": [],
   "source": [
    "# Columns with <1 skew:\n",
    "low_skew_columns = ['int_rate', 'funded_amount']\n",
    "\n",
    "# Columns with >1 skew:\n",
    "high_skew_columns = ['collections_12_mths_ex_med']"
   ]
  },
  {
   "cell_type": "markdown",
   "metadata": {},
   "source": [
    "# Initialise a dataframe transform call."
   ]
  },
  {
   "cell_type": "code",
   "execution_count": null,
   "metadata": {},
   "outputs": [],
   "source": [
    "data_frame_transform_call = DataFrameTransform(raw_table, null_percentages_table, highest_null_proportion_columns, low_skew_columns, categorical_columns, high_skew_columns, date_columns)"
   ]
  },
  {
   "cell_type": "markdown",
   "metadata": {},
   "source": [
    "# Remove the null values in the dataframe."
   ]
  },
  {
   "cell_type": "code",
   "execution_count": null,
   "metadata": {},
   "outputs": [],
   "source": [
    "# Drop all columns with >50% null values.\n",
    "data_frame_transform_call.drop_columns()\n",
    "\n",
    "# Impute null values in categorical columns with the mode.\n",
    "data_frame_transform_call.impute_with_mode()\n",
    "\n",
    "# Impute null values in columns with >1 skew with the median.\n",
    "data_frame_transform_call.impute_with_median()\n",
    "\n",
    "# Drop rows with null values in columns with <1% null values.\n",
    "data_frame_transform_call.drop_rows()\n",
    "\n",
    "# Impute remaining null values in columns with <10% null values with the mean.\n",
    "no_null_table = data_frame_transform_call.impute_with_mean()"
   ]
  },
  {
   "cell_type": "markdown",
   "metadata": {},
   "source": [
    "# Visualise missing values before and after removal of null values."
   ]
  },
  {
   "cell_type": "code",
   "execution_count": null,
   "metadata": {},
   "outputs": [],
   "source": [
    "# Call the plotter class with the raw data frame and produce matrix.\n",
    "visualise = Plotter(raw_table)\n",
    "visualise.missing_data()\n",
    "\n",
    "# Call the plotter class with the null-removed\n",
    "visualise = Plotter(no_null_table)\n",
    "visualise.missing_data()"
   ]
  },
  {
   "cell_type": "markdown",
   "metadata": {},
   "source": [
    "# Assess dataframe after null removal."
   ]
  },
  {
   "cell_type": "code",
   "execution_count": null,
   "metadata": {},
   "outputs": [],
   "source": [
    "# Call DataFrameInfo class with latest dataframe.\n",
    "new_info = DataFrameInfo(no_null_table)\n",
    "\n",
    "# View data types within new dataframe.\n",
    "new_table_data_types = new_info.find_column_types()\n",
    "\n",
    "# Assess skew of new dataframe.\n",
    "all_skew = new_info.column_skew()\n",
    "\n",
    "# Visualise the skewness of the dataframe.\n",
    "new_info.get_histogram()\n",
    "\n",
    "# List all column names in the dataframe.\n",
    "all_column_names = list(no_null_table)\n",
    "\n",
    "# Call the DataFrameTransform class after removal of nulls in the dataframe.\n",
    "transform_post_null_removal = DataFrameTransform(raw_table, null_percentages_table, highest_null_proportion_columns, low_skew_columns, categorical_columns, high_skew_columns, date_columns, all_skew)\n",
    "\n",
    "# Call the DataFrameTransform class after removal of nulls in the dataframe.\n",
    "transform_post_null_removal = DataFrameTransform(raw_table, null_percentages_table, highest_null_proportion_columns, low_skew_columns, categorical_columns, high_skew_columns, date_columns, all_skew)\n",
    "\n",
    "transform_post_null_removal.boxcox_transform_skew()"
   ]
  }
 ],
 "metadata": {
  "kernelspec": {
   "display_name": "Python 3",
   "language": "python",
   "name": "python3"
  },
  "language_info": {
   "codemirror_mode": {
    "name": "ipython",
    "version": 3
   },
   "file_extension": ".py",
   "mimetype": "text/x-python",
   "name": "python",
   "nbconvert_exporter": "python",
   "pygments_lexer": "ipython3",
   "version": "3.8.3"
  }
 },
 "nbformat": 4,
 "nbformat_minor": 2
}
