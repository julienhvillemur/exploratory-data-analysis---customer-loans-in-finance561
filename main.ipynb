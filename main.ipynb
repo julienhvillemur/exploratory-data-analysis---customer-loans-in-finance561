{
 "cells": [
  {
   "cell_type": "markdown",
   "metadata": {},
   "source": [
    "# Import the necessary functions and classes."
   ]
  },
  {
   "cell_type": "code",
   "execution_count": 179,
   "metadata": {},
   "outputs": [
    {
     "ename": "ImportError",
     "evalue": "cannot import name 'StatsChanges' from 'data_frame_transform' (c:\\Users\\Julien H-V\\AI Core\\db_project\\milestone\\data_frame_transform.py)",
     "output_type": "error",
     "traceback": [
      "\u001b[1;31m---------------------------------------------------------------------------\u001b[0m",
      "\u001b[1;31mImportError\u001b[0m                               Traceback (most recent call last)",
      "\u001b[1;32mc:\\Users\\Julien H-V\\AI Core\\db_project\\milestone\\main.ipynb Cell 2\u001b[0m line \u001b[0;36m9\n\u001b[0;32m      <a href='vscode-notebook-cell:/c%3A/Users/Julien%20H-V/AI%20Core/db_project/milestone/main.ipynb#W0sZmlsZQ%3D%3D?line=4'>5</a>\u001b[0m \u001b[39mfrom\u001b[39;00m \u001b[39mdata_frame_info\u001b[39;00m \u001b[39mimport\u001b[39;00m DataFrameInfo\n\u001b[0;32m      <a href='vscode-notebook-cell:/c%3A/Users/Julien%20H-V/AI%20Core/db_project/milestone/main.ipynb#W0sZmlsZQ%3D%3D?line=6'>7</a>\u001b[0m \u001b[39mfrom\u001b[39;00m \u001b[39mplotter\u001b[39;00m \u001b[39mimport\u001b[39;00m Plotter\n\u001b[1;32m----> <a href='vscode-notebook-cell:/c%3A/Users/Julien%20H-V/AI%20Core/db_project/milestone/main.ipynb#W0sZmlsZQ%3D%3D?line=8'>9</a>\u001b[0m \u001b[39mfrom\u001b[39;00m \u001b[39mdata_frame_transform\u001b[39;00m \u001b[39mimport\u001b[39;00m StatsChanges\n",
      "\u001b[1;31mImportError\u001b[0m: cannot import name 'StatsChanges' from 'data_frame_transform' (c:\\Users\\Julien H-V\\AI Core\\db_project\\milestone\\data_frame_transform.py)"
     ]
    }
   ],
   "source": [
    "from db_connector import open_table\n",
    "\n",
    "from data_transform import DataTransform\n",
    "\n",
    "from data_frame_info import DataFrameInfo\n",
    "\n",
    "from plotter import Plotter\n",
    "\n",
    "from data_frame_transform import StatsChanges"
   ]
  },
  {
   "cell_type": "markdown",
   "metadata": {},
   "source": [
    "# Retrieve table."
   ]
  },
  {
   "cell_type": "code",
   "execution_count": null,
   "metadata": {},
   "outputs": [],
   "source": [
    "raw_table = open_table()"
   ]
  },
  {
   "cell_type": "markdown",
   "metadata": {},
   "source": [
    "# Call methods and classes."
   ]
  },
  {
   "cell_type": "code",
   "execution_count": null,
   "metadata": {},
   "outputs": [],
   "source": [
    "transform_call = DataTransform(raw_table)\n",
    "\n",
    "# Remove strings from the 'term' column.\n",
    "transform_call.remove_term_column_strings()\n",
    "\n",
    "# Convert all date columns to datetime format.\n",
    "transform_call.iterate_through_columns()\n",
    "\n",
    "# Initialise a DataFrameInfo call with the raw dataframe.\n",
    "find_info = DataFrameInfo(raw_table)\n",
    "\n",
    "# Create table of percentage null values in the raw dataframe.\n",
    "null_percentages_table = find_info.percentage_null_values()\n",
    "print(null_percentages_table)\n"
   ]
  },
  {
   "cell_type": "markdown",
   "metadata": {},
   "source": [
    "# Sort data based on the data information."
   ]
  },
  {
   "cell_type": "code",
   "execution_count": null,
   "metadata": {},
   "outputs": [],
   "source": [
    "# Columns with null values:\n",
    "all_null_columns = ['mths_since_last_record', 'mths_since_last_major_derog', 'next_payment_date', 'mths_since_last_delinq', 'employment_length', 'last_payment_date', 'last_credit_pull_date','term', 'int_rate', 'funded_amount', 'collections_12_mths_ex_med']\n",
    "\n",
    " # Columns with >50% null values:\n",
    "highest_null_proportion_columns = ['mths_since_last_record', 'mths_since_last_major_derog', 'next_payment_date', 'mths_since_last_delinq']\n",
    "\n",
    "# Categorical columns:\n",
    "categorical_columns = ['employment_length', 'term'] # Contains null values\n",
    "\n",
    "# Date columns\n",
    "date_columns = ['last_payment_date', 'last_credit_pull_date'] # Contains null values\n",
    "print(date_columns)\n",
    "\n",
    "# Columns with <10% null values:\n",
    "low_null_columns = ['int_rate', 'funded_amount', 'last_payment_date', 'last_credit_pull_date', 'collections_12_mths_ex_med']\n"
   ]
  },
  {
   "cell_type": "markdown",
   "metadata": {},
   "source": [
    "# Assess skewness of columns with low percentage null values."
   ]
  },
  {
   "cell_type": "code",
   "execution_count": null,
   "metadata": {},
   "outputs": [],
   "source": [
    "#FIX\n",
    "skew_table = []\n",
    "find_info.column_skew(low_null_columns)\n"
   ]
  },
  {
   "cell_type": "markdown",
   "metadata": {},
   "source": [
    "# Sort the low percentage null columns by skewness."
   ]
  },
  {
   "cell_type": "code",
   "execution_count": null,
   "metadata": {},
   "outputs": [],
   "source": [
    "# Columns with <1 skew:\n",
    "low_skew_columns = ['int_rate', 'funded_amount']\n",
    "\n",
    "# Columns with >1 skew:\n",
    "high_skew_columns = ['collections_12_mths_ex_med']"
   ]
  },
  {
   "cell_type": "markdown",
   "metadata": {},
   "source": [
    "# Initialise a dataframe transform call."
   ]
  },
  {
   "cell_type": "code",
   "execution_count": null,
   "metadata": {},
   "outputs": [],
   "source": [
    "data_frame_transform_call = DataFrameTransform(raw_table, find_info, highest_null_proportion_columns, low_skew_columns, categorical_columns, high_skew_columns, date_columns)"
   ]
  },
  {
   "cell_type": "markdown",
   "metadata": {},
   "source": [
    "# Remove the null values in the dataframe."
   ]
  },
  {
   "cell_type": "code",
   "execution_count": null,
   "metadata": {},
   "outputs": [],
   "source": [
    "# Drop all columns with >50% null values.\n",
    "data_frame_transform_call.drop_columns()\n",
    "\n",
    "# Impute null values in categorical columns with the mode.\n",
    "data_frame_transform_call.impute_with_mode()\n",
    "\n",
    "# Impute null values in columns with >1 skew with the median.\n",
    "data_frame_transform_call.impute_with_median()\n",
    "\n",
    "# Drop rows with null values in columns with <1% null values.\n",
    "data_frame_transform_call.drop_rows()\n",
    "\n",
    "# Impute remaining null values in columns with <10% null values with the mean.\n",
    "no_null_table = data_frame_transform_call.impute_with_mean()"
   ]
  },
  {
   "cell_type": "markdown",
   "metadata": {},
   "source": [
    "# Visualise missing values before and after removal of null values."
   ]
  },
  {
   "cell_type": "code",
   "execution_count": null,
   "metadata": {},
   "outputs": [],
   "source": [
    "# Call the plotter class with the raw data frame and produce matrix.\n",
    "visualise = Plotter(raw_table)\n",
    "visualise.missing_data()\n",
    "\n",
    "# Call the plotter class with the null-removed\n",
    "visualise = Plotter(no_null_table)\n",
    "visualise.missing_data()"
   ]
  },
  {
   "cell_type": "markdown",
   "metadata": {},
   "source": [
    "# Assess dataframe after null removal."
   ]
  },
  {
   "cell_type": "code",
   "execution_count": null,
   "metadata": {},
   "outputs": [],
   "source": [
    "# Call DataFrameInfo class with latest dataframe.\n",
    "new_info = DataFrameInfo(no_null_table)\n",
    "\n",
    "# View data types within new dataframe.\n",
    "new_table_data_types = new_info.find_column_types()\n",
    "\n",
    "# Assess skew of new dataframe.\n",
    "all_skew = new_info.column_skew()\n",
    "\n",
    "# Visualise the skewness of the dataframe.\n",
    "new_info.get_histogram()\n",
    "\n",
    "# List all column names in the dataframe.\n",
    "all_column_names = list(no_null_table)\n",
    "\n",
    "# Call the DataFrameTransform class after removal of nulls in the dataframe.\n",
    "transform_post_null_removal = DataFrameTransform(raw_table, null_percentages_table, highest_null_proportion_columns, low_skew_columns, categorical_columns, high_skew_columns, date_columns, all_skew)\n",
    "\n",
    "# Call the DataFrameTransform class after removal of nulls in the dataframe.\n",
    "transform_post_null_removal = DataFrameTransform(raw_table, null_percentages_table, highest_null_proportion_columns, low_skew_columns, categorical_columns, high_skew_columns, date_columns, all_skew)\n",
    "\n",
    "transform_post_null_removal.boxcox_transform(all_skew)"
   ]
  },
  {
   "cell_type": "markdown",
   "metadata": {},
   "source": [
    "# Import null-removed table from local saved location:"
   ]
  },
  {
   "cell_type": "code",
   "execution_count": 169,
   "metadata": {},
   "outputs": [
    {
     "name": "stdout",
     "output_type": "stream",
     "text": [
      "              id  member_id  loan_amount  funded_amount  funded_amount_inv  \\\n",
      "0      56.640956  66.493062         8000         8000.0             8000.0   \n",
      "1      56.637064  66.488027        13200        13200.0            13200.0   \n",
      "2      56.637055  66.488016        16000        16000.0            16000.0   \n",
      "3      56.637050  66.488010        15000        15000.0            15000.0   \n",
      "4      56.637048  66.488008        15000        15000.0            15000.0   \n",
      "...          ...        ...          ...            ...                ...   \n",
      "54146  23.118841  25.266186         5000         5000.0             1775.0   \n",
      "54147  25.488007  25.161876         5000         5000.0             2350.0   \n",
      "54148  24.716468  24.944627         3500         3500.0             2225.0   \n",
      "54149  23.669249  24.928049         5000         5000.0              225.0   \n",
      "54150  22.908466  24.927752         5000         5000.0              350.0   \n",
      "\n",
      "           term  int_rate  instalment grade sub_grade  ... total_rec_int  \\\n",
      "0      0.139972      7.49      248.82     A        A4  ...     10.789459   \n",
      "1      0.139972      6.99      407.52     A        A3  ...     12.012852   \n",
      "2      0.139972      7.49      497.63     A        A4  ...     12.146904   \n",
      "3      0.139972     14.31      514.93     C        C4  ...     12.563421   \n",
      "4      0.139972      6.03      456.54     A        A1  ...     11.948769   \n",
      "...         ...       ...         ...   ...       ...  ...           ...   \n",
      "54146  0.139972      9.01      159.03     B        B2  ...     11.768902   \n",
      "54147  0.139972     10.59      162.73     C        C2  ...     12.153260   \n",
      "54148  0.139972      7.43      108.77     A        A2  ...     10.224615   \n",
      "54149  0.139972      7.43      155.38     A        A2  ...      8.079313   \n",
      "54150  0.139972     11.54      164.98     C        C5  ...      9.794443   \n",
      "\n",
      "      total_rec_late_fee  recoveries collection_recovery_fee  \\\n",
      "0              -0.000000   -0.000000               -0.000000   \n",
      "1              -0.000000   -0.000000               -0.000000   \n",
      "2              -0.000000   -0.000000               -0.000000   \n",
      "3              -0.000000   -0.000000               -0.000000   \n",
      "4              -0.000000   -0.000000               -0.000000   \n",
      "...                  ...         ...                     ...   \n",
      "54146          -0.000000   -0.000000               -0.000000   \n",
      "54147           0.104038   -0.000000               -0.000000   \n",
      "54148          -0.000000   -0.000000               -0.000000   \n",
      "54149          -0.000000   -0.000000               -0.000000   \n",
      "54150          -0.000000    0.419709                0.205388   \n",
      "\n",
      "      last_payment_date last_payment_amount last_credit_pull_date  \\\n",
      "0               2022-01            4.921097               2022-01   \n",
      "1               2022-01            5.306043               2022-01   \n",
      "2               2021-10            7.790822               2021-10   \n",
      "3               2021-06            7.843254               2021-06   \n",
      "4               2022-01            5.393610               2022-01   \n",
      "...                 ...                 ...                   ...   \n",
      "54146           2016-07            4.573396               2016-07   \n",
      "54147           2016-10            5.447951               2016-09   \n",
      "54148           2016-09            4.272567               2013-05   \n",
      "54149           2014-03           -0.000000               2013-05   \n",
      "54150           2014-03            4.594833               2015-01   \n",
      "\n",
      "      collections_12_mths_ex_med  policy_code  application_type  \n",
      "0                           -0.0            1        INDIVIDUAL  \n",
      "1                           -0.0            1        INDIVIDUAL  \n",
      "2                           -0.0            1        INDIVIDUAL  \n",
      "3                           -0.0            1        INDIVIDUAL  \n",
      "4                           -0.0            1        INDIVIDUAL  \n",
      "...                          ...          ...               ...  \n",
      "54146                       -0.0            1        INDIVIDUAL  \n",
      "54147                       -0.0            1        INDIVIDUAL  \n",
      "54148                       -0.0            1        INDIVIDUAL  \n",
      "54149                       -0.0            1        INDIVIDUAL  \n",
      "54150                       -0.0            1        INDIVIDUAL  \n",
      "\n",
      "[54151 rows x 39 columns]\n"
     ]
    },
    {
     "data": {
      "image/png": "[encoded data removed]",
      "text/plain": [
       "<Figure size 640x480 with 1 Axes>"
      ]
     },
     "metadata": {},
     "output_type": "display_data"
    }
   ],
   "source": [
    "import pandas as pd\n",
    "\n",
    "import seaborn as sns\n",
    "\n",
    "from scipy import stats\n",
    "\n",
    "from scipy.stats import yeojohnson\n",
    "\n",
    "# Load CSV file as dataframe from local machine\n",
    "def no_null_table():\n",
    "    with open('../../file_saves/null_removed_table.csv', 'r') as file:\n",
    "        saved_loan_payments_table = pd.read_csv(file)\n",
    "    return saved_loan_payments_table\n",
    "\n",
    "clean_table = no_null_table()\n",
    "\n",
    "# Assess skewness of dataframe.\n",
    "get_info = DataFrameInfo(clean_table)\n",
    "skew_table = get_info.column_skew()\n",
    "\n",
    "# Transform columns with >1 skew.\n",
    "def yeojohnson_transform():\n",
    "    for column, skew in skew_table.items():\n",
    "        if skew > 1:  \n",
    "            yeojohnson_sample = clean_table[column]\n",
    "            yeojohnson_transform = stats.yeojohnson(yeojohnson_sample)\n",
    "            yeojohnson_data= pd.Series(yeojohnson_transform[0])\n",
    "            clean_table[column] = yeojohnson_data\n",
    "            plot=sns.histplot(yeojohnson_data,label=\"Skewness: %.2f\"%(yeojohnson_data.skew()) )\n",
    "            plot.legend()\n",
    "    return clean_table\n",
    "\n",
    "transformed_table = yeojohnson_transform()\n",
    "\n",
    "print(transformed_table)\n",
    "\n",
    "# Assess skewness of transformed dataframe.\n",
    "transform_info = DataFrameInfo(transformed_table)\n",
    "reduced_skew = transform_info.column_skew()"
   ]
  },
  {
   "cell_type": "markdown",
   "metadata": {},
   "source": [
    "# Check skewness after transformation and save new table."
   ]
  },
  {
   "cell_type": "code",
   "execution_count": 170,
   "metadata": {},
   "outputs": [
    {
     "name": "stdout",
     "output_type": "stream",
     "text": [
      "Before transformation:\n",
      "id                             2.370227\n",
      "member_id                      2.205248\n",
      "loan_amount                    0.804922\n",
      "funded_amount                  0.845298\n",
      "funded_amount_inv              0.813376\n",
      "term                           1.147782\n",
      "int_rate                       0.398977\n",
      "instalment                     0.996572\n",
      "annual_inc                     8.717500\n",
      "dti                            0.189101\n",
      "delinq_2yrs                    5.376385\n",
      "inq_last_6mths                 3.253523\n",
      "open_accounts                  1.059184\n",
      "total_accounts                 0.779040\n",
      "out_prncp                      2.354051\n",
      "out_prncp_inv                  2.354471\n",
      "total_payment                  1.269875\n",
      "total_payment_inv              1.257870\n",
      "total_rec_prncp                1.262679\n",
      "total_rec_int                  2.204585\n",
      "total_rec_late_fee            13.174553\n",
      "recoveries                    14.389299\n",
      "collection_recovery_fee       27.807754\n",
      "last_payment_amount            2.497220\n",
      "collections_12_mths_ex_med    20.307695\n",
      "policy_code                    0.000000\n",
      "dtype: float64.\n",
      " After transformation:\n",
      "id                            -0.061533\n",
      "member_id                     -0.069054\n",
      "loan_amount                    0.804922\n",
      "funded_amount                  0.845298\n",
      "funded_amount_inv              0.813376\n",
      "term                           0.000000\n",
      "int_rate                       0.398977\n",
      "instalment                     0.996572\n",
      "annual_inc                    -0.012084\n",
      "dti                            0.189101\n",
      "delinq_2yrs                    1.869496\n",
      "inq_last_6mths                 0.251268\n",
      "open_accounts                  0.001814\n",
      "total_accounts                 0.779040\n",
      "out_prncp                      0.530611\n",
      "out_prncp_inv                  0.530629\n",
      "total_payment                 -0.013836\n",
      "total_payment_inv              0.005208\n",
      "total_rec_prncp               -0.017648\n",
      "total_rec_int                  0.001293\n",
      "total_rec_late_fee             5.274701\n",
      "recoveries                     3.474915\n",
      "collection_recovery_fee        3.618299\n",
      "last_payment_amount            0.001347\n",
      "collections_12_mths_ex_med    16.042427\n",
      "policy_code                    0.000000\n",
      "dtype: float64\n"
     ]
    }
   ],
   "source": [
    "print(f'Before transformation:\\n{skew_table}.\\n After transformation:\\n{reduced_skew}')\n",
    "\n",
    "transformed_table.to_csv('../../file_saves/transformed_table.csv', index=False)"
   ]
  },
  {
   "cell_type": "markdown",
   "metadata": {},
   "source": [
    "# Remove outliers."
   ]
  },
  {
   "cell_type": "code",
   "execution_count": null,
   "metadata": {},
   "outputs": [],
   "source": []
  }
 ],
 "metadata": {
  "kernelspec": {
   "display_name": "Python 3",
   "language": "python",
   "name": "python3"
  },
  "language_info": {
   "codemirror_mode": {
    "name": "ipython",
    "version": 3
   },
   "file_extension": ".py",
   "mimetype": "text/x-python",
   "name": "python",
   "nbconvert_exporter": "python",
   "pygments_lexer": "ipython3",
   "version": "3.8.3"
  }
 },
 "nbformat": 4,
 "nbformat_minor": 2
}
