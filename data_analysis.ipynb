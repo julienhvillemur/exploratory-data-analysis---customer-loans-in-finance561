{
 "cells": [
  {
   "cell_type": "markdown",
   "metadata": {},
   "source": [
    "## Exploratory Data Analysis of The Transformed Loan Payments Table"
   ]
  },
  {
   "cell_type": "code",
   "execution_count": 1,
   "metadata": {},
   "outputs": [],
   "source": [
    "# Import necessary modules\n",
    "\n",
    "from data_frame_info import DataFrameInfo\n",
    "\n",
    "from plotter import Plotter\n",
    "\n",
    "from db_connector import open_latest_table\n"
   ]
  },
  {
   "cell_type": "code",
   "execution_count": 2,
   "metadata": {},
   "outputs": [],
   "source": [
    "# Call the open_latest_table function and retrieve the final transformed loan payments dataframe.\n",
    "loan_payments = open_latest_table()"
   ]
  },
  {
   "cell_type": "code",
   "execution_count": 3,
   "metadata": {},
   "outputs": [
    {
     "name": "stdout",
     "output_type": "stream",
     "text": [
      "The proportion of loan investments recovered is 99.99%.\n",
      "The proportion of whole loans recovered is 99.99%.\n",
      "6 months of customer instalments will result in 18.14% loan recovery.\n"
     ]
    }
   ],
   "source": [
    "# Call the DataFrameInfo class\n",
    "table_info = DataFrameInfo(loan_payments)\n",
    "\n",
    "# Calculate percentage loans recovered against total loans and total loan investments.\n",
    "loan_recoveries = table_info.recovered_loans()"
   ]
  },
  {
   "cell_type": "markdown",
   "metadata": {},
   "source": [
    "### Plot the percentage loan recoveries."
   ]
  },
  {
   "cell_type": "code",
   "execution_count": 4,
   "metadata": {},
   "outputs": [
    {
     "data": {
      "text/plain": [
       "<BarContainer object of 3 artists>"
      ]
     },
     "execution_count": 4,
     "metadata": {},
     "output_type": "execute_result"
    },
    {
     "data": {
      "image/png": "[encoded data removed]",
      "text/plain": [
       "<Figure size 640x480 with 1 Axes>"
      ]
     },
     "metadata": {},
     "output_type": "display_data"
    }
   ],
   "source": [
    "# Call the Plotter class\n",
    "plot_data = Plotter(loan_payments)\n",
    "\n",
    "# Plot a bar chart of percentage loan recoveries using loan_recoveries.\n",
    "plot_data.bar_chart(loan_recoveries)"
   ]
  },
  {
   "cell_type": "markdown",
   "metadata": {},
   "source": [
    "### Calculating loss."
   ]
  },
  {
   "cell_type": "code",
   "execution_count": 25,
   "metadata": {},
   "outputs": [
    {
     "data": {
      "text/plain": [
       "loan_status\n",
       "Fully Paid                                             27033\n",
       "Current                                                19267\n",
       "Charged Off                                             5503\n",
       "Does not meet the credit policy. Status:Fully Paid       984\n",
       "Late (31-120 days)                                       580\n",
       "Does not meet the credit policy. Status:Charged Off      361\n",
       "In Grace Period                                          265\n",
       "Late (16-30 days)                                        106\n",
       "Default                                                   52\n",
       "Name: count, dtype: int64"
      ]
     },
     "metadata": {},
     "output_type": "display_data"
    },
    {
     "name": "stdout",
     "output_type": "stream",
     "text": [
      "The number of charged off loans are 5503, which equates to a 10.16% loss for the company.\n",
      "A total of 219672.33 was paid towards charged off loans\n"
     ]
    }
   ],
   "source": [
    "# Call the get_unique_values method to find unique values in the 'loan_status column.\n",
    "loan_status = table_info.get_unique_values('loan_status')\n",
    "display(loan_status)\n",
    "\n",
    "# Calculate the percentage loss to the company as per 'Charged Off' loans.\n",
    "total_loans = (loan_status.sum())\n",
    "charged_off = loan_status['Charged Off']\n",
    "percentage_loss = (charged_off / total_loans * 100).round(2)\n",
    "print(f'The number of charged off loans are {charged_off}, which equates to a {percentage_loss}% loss for the company.')\n",
    "\n",
    "# Isolate rows with 'charged_off' loans.\n",
    "charged_off_loans = loan_payments.loc[loan_payments['loan_status'] == 'Charged Off']\n",
    "\n",
    "# Calculate amount paid off towards charged off loans.\n",
    "charged_off_payments = (charged_off_loans['total_payment'].sum()).round(2)\n",
    "print(f'A total of {charged_off_payments} was paid towards charged off loans')"
   ]
  }
 ],
 "metadata": {
  "kernelspec": {
   "display_name": "Python 3 (ipykernel)",
   "language": "python",
   "name": "python3"
  },
  "language_info": {
   "codemirror_mode": {
    "name": "ipython",
    "version": 3
   },
   "file_extension": ".py",
   "mimetype": "text/x-python",
   "name": "python",
   "nbconvert_exporter": "python",
   "pygments_lexer": "ipython3",
   "version": "3.9.2"
  }
 },
 "nbformat": 4,
 "nbformat_minor": 2
}
