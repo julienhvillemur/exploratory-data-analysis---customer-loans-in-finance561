{
 "cells": [
  {
   "cell_type": "markdown",
   "metadata": {},
   "source": [
    "### Exploratory Data Analysis of The Transformed Loan Payments Table"
   ]
  },
  {
   "cell_type": "code",
   "execution_count": 1,
   "metadata": {},
   "outputs": [],
   "source": [
    "# Import necessary modules\n",
    "\n",
    "from data_frame_info import DataFrameInfo\n",
    "\n",
    "from db_connector import open_latest_table\n"
   ]
  },
  {
   "cell_type": "code",
   "execution_count": 2,
   "metadata": {},
   "outputs": [],
   "source": [
    "# Call the open_latest_table function and retrieve the final transformed loan payments dataframe.\n",
    "loan_payments = open_latest_table()"
   ]
  },
  {
   "cell_type": "code",
   "execution_count": 3,
   "metadata": {},
   "outputs": [
    {
     "name": "stdout",
     "output_type": "stream",
     "text": [
      "The proportion of loan investments recovered is 99.99%.\n",
      "The proportion of whole loans recovered is 99.99%.\n",
      "6 months of customer instalments will result in 18.14% loan recovery.\n"
     ]
    }
   ],
   "source": [
    "# Call the DataFrameInfo class\n",
    "table_info = DataFrameInfo(loan_payments)\n",
    "\n",
    "# Calculate percentage loans recovered against total loans and total loan investments.\n",
    "loan_recoveries = table_info.recovered_loans()"
   ]
  },
  {
   "cell_type": "markdown",
   "metadata": {},
   "source": [
    "### Plot the percentage loan recoveries."
   ]
  },
  {
   "cell_type": "code",
   "execution_count": 8,
   "metadata": {},
   "outputs": [
    {
     "name": "stdout",
     "output_type": "stream",
     "text": [
      "[99.99, 99.99, 18.14]\n"
     ]
    },
    {
     "data": {
      "image/png": "[encoded data removed]",
      "text/plain": [
       "<Figure size 640x480 with 1 Axes>"
      ]
     },
     "metadata": {},
     "output_type": "display_data"
    }
   ],
   "source": [
    "import matplotlib.pyplot as plt\n",
    "\n",
    "categories = list(loan_recoveries.keys())\n",
    "percentages = list(loan_recoveries.values())\n",
    "print(percentages)\n",
    "plt.bar(100, percentages, tick_label=categories)\n",
    "plt.show()"
   ]
  }
 ],
 "metadata": {
  "kernelspec": {
   "display_name": "Python 3 (ipykernel)",
   "language": "python",
   "name": "python3"
  },
  "language_info": {
   "codemirror_mode": {
    "name": "ipython",
    "version": 3
   },
   "file_extension": ".py",
   "mimetype": "text/x-python",
   "name": "python",
   "nbconvert_exporter": "python",
   "pygments_lexer": "ipython3",
   "version": "3.9.2"
  }
 },
 "nbformat": 4,
 "nbformat_minor": 2
}
