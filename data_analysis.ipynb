{
 "cells": [
  {
   "cell_type": "markdown",
   "metadata": {},
   "source": [
    "### Exploratory Data Analysis of The Transformed Loan Payments Table"
   ]
  },
  {
   "cell_type": "code",
   "execution_count": null,
   "metadata": {},
   "outputs": [],
   "source": [
    "# Import necessary modules\n",
    "\n",
    "from data_frame_info import DataFrameInfo\n",
    "\n",
    "from db_connector import open_latest_table\n"
   ]
  },
  {
   "cell_type": "code",
   "execution_count": null,
   "metadata": {},
   "outputs": [],
   "source": [
    "# Call the open_latest_table function and retrieve the final transformed loan payments dataframe.\n",
    "loan_payments = open_latest_table()"
   ]
  },
  {
   "cell_type": "code",
   "execution_count": null,
   "metadata": {},
   "outputs": [],
   "source": [
    "# Call the DataFrameInfo class\n",
    "table_info = DataFrameInfo(loan_payments)\n",
    "\n",
    "# Calculate percentage loans recovered against total loans and total loan investments.\n",
    "table_info.recovered_loans()"
   ]
  }
 ],
 "metadata": {
  "kernelspec": {
   "display_name": "myenv",
   "language": "python",
   "name": "python3"
  },
  "language_info": {
   "name": "python",
   "version": "3.8.3"
  }
 },
 "nbformat": 4,
 "nbformat_minor": 2
}
